{
  "nbformat": 4,
  "nbformat_minor": 0,
  "metadata": {
    "colab": {
      "provenance": []
    },
    "kernelspec": {
      "name": "python3",
      "display_name": "Python 3"
    },
    "language_info": {
      "name": "python"
    }
  },
  "cells": [
    {
      "cell_type": "markdown",
      "source": [
        "# Search with LLMs: Recent News Summarizer\n",
        "---\n",
        "In this example, we will build a LLM-based news summarizer app with the Exa API to keep us up-to-date with the latest news on a given topic.\n",
        "\n",
        "This Jupyter notebook is available on [Colab](https://colab.research.google.com/drive/1w1WaPpbdm8fAPw_B5M0U-GHIZpcIbUaw) for easy experimentation. You can also [check it out on Github](https://github.com/exa-labs/exa-py/tree/master/examples/newssummarizer/summarizer.ipynb), including a [plain Python version](https://github.com/exa-labs/exa-py/tree/master/examples/newssummarizer/summarizer.py) if you want to skip to a complete product.\n",
        "\n",
        "To play with this code, first we need a [Exa API key](https://dashboard.exa.ai/overview) and an [OpenAI API key](https://platform.openai.com/api-keys). Get 1000 Exa searches per month free just for [signing up](https://dashboard.exa.ai/overview)!\n"
      ],
      "metadata": {
        "id": "SVSe94wq0KD0"
      }
    },
    {
      "cell_type": "code",
      "source": [
        "# install Exa and OpenAI SDKs\n",
        "!pip install exa_py\n",
        "!pip install openai"
      ],
      "metadata": {
        "id": "5ijr4syZGF6O",
        "colab": {
          "base_uri": "https://localhost:8080/"
        },
        "outputId": "62298d9d-498e-4b2d-bb90-e11b7957d61b"
      },
      "execution_count": null,
      "outputs": [
        {
          "output_type": "stream",
          "name": "stdout",
          "text": [
            "Collecting exa_py\n",
            "  Downloading exa_py-1.0.13-py3-none-any.whl (8.6 kB)\n",
            "Requirement already satisfied: requests in /usr/local/lib/python3.10/dist-packages (from exa_py) (2.31.0)\n",
            "Requirement already satisfied: typing-extensions in /usr/local/lib/python3.10/dist-packages (from exa_py) (4.12.2)\n",
            "Collecting openai>=1.10.0 (from exa_py)\n",
            "  Downloading openai-1.35.13-py3-none-any.whl (328 kB)\n",
            "\u001b[2K     \u001b[90m━━━━━━━━━━━━━━━━━━━━━━━━━━━━━━━━━━━━━━━━\u001b[0m \u001b[32m328.5/328.5 kB\u001b[0m \u001b[31m3.4 MB/s\u001b[0m eta \u001b[36m0:00:00\u001b[0m\n",
            "\u001b[?25hRequirement already satisfied: anyio<5,>=3.5.0 in /usr/local/lib/python3.10/dist-packages (from openai>=1.10.0->exa_py) (3.7.1)\n",
            "Requirement already satisfied: distro<2,>=1.7.0 in /usr/lib/python3/dist-packages (from openai>=1.10.0->exa_py) (1.7.0)\n",
            "Collecting httpx<1,>=0.23.0 (from openai>=1.10.0->exa_py)\n",
            "  Downloading httpx-0.27.0-py3-none-any.whl (75 kB)\n",
            "\u001b[2K     \u001b[90m━━━━━━━━━━━━━━━━━━━━━━━━━━━━━━━━━━━━━━━━\u001b[0m \u001b[32m75.6/75.6 kB\u001b[0m \u001b[31m5.8 MB/s\u001b[0m eta \u001b[36m0:00:00\u001b[0m\n",
            "\u001b[?25hRequirement already satisfied: pydantic<3,>=1.9.0 in /usr/local/lib/python3.10/dist-packages (from openai>=1.10.0->exa_py) (2.8.0)\n",
            "Requirement already satisfied: sniffio in /usr/local/lib/python3.10/dist-packages (from openai>=1.10.0->exa_py) (1.3.1)\n",
            "Requirement already satisfied: tqdm>4 in /usr/local/lib/python3.10/dist-packages (from openai>=1.10.0->exa_py) (4.66.4)\n",
            "Requirement already satisfied: charset-normalizer<4,>=2 in /usr/local/lib/python3.10/dist-packages (from requests->exa_py) (3.3.2)\n",
            "Requirement already satisfied: idna<4,>=2.5 in /usr/local/lib/python3.10/dist-packages (from requests->exa_py) (3.7)\n",
            "Requirement already satisfied: urllib3<3,>=1.21.1 in /usr/local/lib/python3.10/dist-packages (from requests->exa_py) (2.0.7)\n",
            "Requirement already satisfied: certifi>=2017.4.17 in /usr/local/lib/python3.10/dist-packages (from requests->exa_py) (2024.6.2)\n",
            "Requirement already satisfied: exceptiongroup in /usr/local/lib/python3.10/dist-packages (from anyio<5,>=3.5.0->openai>=1.10.0->exa_py) (1.2.1)\n",
            "Collecting httpcore==1.* (from httpx<1,>=0.23.0->openai>=1.10.0->exa_py)\n",
            "  Downloading httpcore-1.0.5-py3-none-any.whl (77 kB)\n",
            "\u001b[2K     \u001b[90m━━━━━━━━━━━━━━━━━━━━━━━━━━━━━━━━━━━━━━━━\u001b[0m \u001b[32m77.9/77.9 kB\u001b[0m \u001b[31m5.6 MB/s\u001b[0m eta \u001b[36m0:00:00\u001b[0m\n",
            "\u001b[?25hCollecting h11<0.15,>=0.13 (from httpcore==1.*->httpx<1,>=0.23.0->openai>=1.10.0->exa_py)\n",
            "  Downloading h11-0.14.0-py3-none-any.whl (58 kB)\n",
            "\u001b[2K     \u001b[90m━━━━━━━━━━━━━━━━━━━━━━━━━━━━━━━━━━━━━━━━\u001b[0m \u001b[32m58.3/58.3 kB\u001b[0m \u001b[31m6.0 MB/s\u001b[0m eta \u001b[36m0:00:00\u001b[0m\n",
            "\u001b[?25hRequirement already satisfied: annotated-types>=0.4.0 in /usr/local/lib/python3.10/dist-packages (from pydantic<3,>=1.9.0->openai>=1.10.0->exa_py) (0.7.0)\n",
            "Requirement already satisfied: pydantic-core==2.20.0 in /usr/local/lib/python3.10/dist-packages (from pydantic<3,>=1.9.0->openai>=1.10.0->exa_py) (2.20.0)\n",
            "Installing collected packages: h11, httpcore, httpx, openai, exa_py\n",
            "Successfully installed exa_py-1.0.13 h11-0.14.0 httpcore-1.0.5 httpx-0.27.0 openai-1.35.13\n",
            "Requirement already satisfied: openai in /usr/local/lib/python3.10/dist-packages (1.35.13)\n",
            "Requirement already satisfied: anyio<5,>=3.5.0 in /usr/local/lib/python3.10/dist-packages (from openai) (3.7.1)\n",
            "Requirement already satisfied: distro<2,>=1.7.0 in /usr/lib/python3/dist-packages (from openai) (1.7.0)\n",
            "Requirement already satisfied: httpx<1,>=0.23.0 in /usr/local/lib/python3.10/dist-packages (from openai) (0.27.0)\n",
            "Requirement already satisfied: pydantic<3,>=1.9.0 in /usr/local/lib/python3.10/dist-packages (from openai) (2.8.0)\n",
            "Requirement already satisfied: sniffio in /usr/local/lib/python3.10/dist-packages (from openai) (1.3.1)\n",
            "Requirement already satisfied: tqdm>4 in /usr/local/lib/python3.10/dist-packages (from openai) (4.66.4)\n",
            "Requirement already satisfied: typing-extensions<5,>=4.7 in /usr/local/lib/python3.10/dist-packages (from openai) (4.12.2)\n",
            "Requirement already satisfied: idna>=2.8 in /usr/local/lib/python3.10/dist-packages (from anyio<5,>=3.5.0->openai) (3.7)\n",
            "Requirement already satisfied: exceptiongroup in /usr/local/lib/python3.10/dist-packages (from anyio<5,>=3.5.0->openai) (1.2.1)\n",
            "Requirement already satisfied: certifi in /usr/local/lib/python3.10/dist-packages (from httpx<1,>=0.23.0->openai) (2024.6.2)\n",
            "Requirement already satisfied: httpcore==1.* in /usr/local/lib/python3.10/dist-packages (from httpx<1,>=0.23.0->openai) (1.0.5)\n",
            "Requirement already satisfied: h11<0.15,>=0.13 in /usr/local/lib/python3.10/dist-packages (from httpcore==1.*->httpx<1,>=0.23.0->openai) (0.14.0)\n",
            "Requirement already satisfied: annotated-types>=0.4.0 in /usr/local/lib/python3.10/dist-packages (from pydantic<3,>=1.9.0->openai) (0.7.0)\n",
            "Requirement already satisfied: pydantic-core==2.20.0 in /usr/local/lib/python3.10/dist-packages (from pydantic<3,>=1.9.0->openai) (2.20.0)\n"
          ]
        }
      ]
    },
    {
      "cell_type": "code",
      "source": [
        "from google.colab import userdata # comment this out if you're not using Colab\n",
        "\n",
        "EXA_API_KEY = userdata.get('EXA_API_KEY') # replace with your api key, or add to Colab Secrets\n",
        "OPENAI_API_KEY = userdata.get('OPENAI_API_KEY') # replace with your api key, or add to Colab Secrets"
      ],
      "metadata": {
        "id": "b6GDATDX4kaH"
      },
      "execution_count": null,
      "outputs": []
    },
    {
      "cell_type": "markdown",
      "source": [
        "### Retrieving news with Exa\n",
        "Let's use the Exa neural search engine to search the web for relevant links to the user's question.\n",
        "\n",
        "First, we ask the LLM to generate a search engine query based on the question."
      ],
      "metadata": {
        "id": "Qg8dF3p208CY"
      }
    },
    {
      "cell_type": "code",
      "source": [
        "import openai\n",
        "from exa_py import Exa\n",
        "\n",
        "openai.api_key = OPENAI_API_KEY\n",
        "exa = Exa(EXA_API_KEY)\n",
        "\n",
        "SYSTEM_MESSAGE = \"You are a helpful assistant that generates search queries based on user questions. Only generate one search query.\"\n",
        "USER_QUESTION = \"What's the recent news in physics this week?\"\n",
        "\n",
        "completion = openai.chat.completions.create(\n",
        "    model=\"gpt-3.5-turbo\",\n",
        "    messages=[\n",
        "        {\"role\": \"system\", \"content\": SYSTEM_MESSAGE},\n",
        "        {\"role\": \"user\", \"content\": USER_QUESTION},\n",
        "    ],\n",
        ")\n",
        "\n",
        "search_query = completion.choices[0].message.content\n",
        "\n",
        "print(\"Search query:\")\n",
        "print(search_query)"
      ],
      "metadata": {
        "id": "jbycUz5K1Ijk",
        "colab": {
          "base_uri": "https://localhost:8080/"
        },
        "outputId": "5f039a2a-4763-4a83-f659-4386deb651b5"
      },
      "execution_count": null,
      "outputs": [
        {
          "output_type": "stream",
          "name": "stdout",
          "text": [
            "Search query:\n",
            "\"Recent news in physics this week\"\n"
          ]
        }
      ]
    },
    {
      "cell_type": "markdown",
      "source": [
        "Looks good! Now let's put the search query into Exa. Let's also use `start_published_date` to filter the results to pages published in the last week. Notice that we set `use_autoprompt=True` which lets the Exa API further optimize our search query for best results. Essentially, there is a special way to format Exa queries for best results, which `autoprompt` does automatically"
      ],
      "metadata": {
        "id": "SC_5-snd-GEn"
      }
    },
    {
      "cell_type": "code",
      "source": [
        "from datetime import datetime, timedelta\n",
        "\n",
        "one_week_ago = (datetime.now() - timedelta(days=7))\n",
        "date_cutoff = one_week_ago.strftime(\"%Y-%m-%d\")\n",
        "\n",
        "search_response = exa.search_and_contents(\n",
        "    search_query, use_autoprompt=True, start_published_date=date_cutoff\n",
        ")\n",
        "\n",
        "urls = [result.url for result in search_response.results]\n",
        "print(\"URLs:\")\n",
        "for url in urls:\n",
        "    print(url)"
      ],
      "metadata": {
        "id": "Hze1E9Km9_wy",
        "colab": {
          "base_uri": "https://localhost:8080/"
        },
        "outputId": "5860b056-8480-4b8e-a343-56d59d0cfed4"
      },
      "execution_count": null,
      "outputs": [
        {
          "output_type": "stream",
          "name": "stdout",
          "text": [
            "URLs:\n",
            "https://phys.org/news/2024-07-scientists-successfully-crystal-giant-atoms.html\n",
            "https://phys.org/news/2024-07-multimode-coupler-advances-scalable-quantum.html?utm_source=twitter.com&utm_medium=social&utm_campaign=v2\n",
            "https://physicsworld.com/a/matter-wave-interferometry-puts-new-limits-on-chameleon-particles/\n",
            "https://phys.org/news/2024-07-method-tenfold-quantum-coherence-destructive.html?utm_source=twitter.com&utm_medium=social&utm_campaign=v2\n",
            "https://www.sciencedaily.com/releases/2024/06/240628125241.htm\n",
            "https://phys.org/news/2024-07-webb-captures-staggering-quasar-galaxy.html?utm_source=twitter.com&utm_medium=social&utm_campaign=v2\n",
            "https://www.nature.com/articles/d41586-024-02134-w\n",
            "https://phys.org/news/2024-07-incompletely-rifted-microcontinent-greenland-canada.html?utm_source=twitter.com&utm_medium=social&utm_campaign=v2\n",
            "https://phys.org/news/2024-07-archaeologists-ancient-temple-theater-peru.html?utm_source=twitter.com&utm_medium=social&utm_campaign=v2\n",
            "https://news.umich.edu/astronomers-find-surprising-ice-world-in-the-habitable-zone-with-jwst-data/\n"
          ]
        }
      ]
    },
    {
      "cell_type": "markdown",
      "source": [
        "Now we're getting somewhere! Exa gave our app a list of relevant, useful URLs based on the original question.\n",
        "\n",
        "By the way, we might be wondering what makes Exa special. Why can't we just search with Google? Well, [let's take a look for ourselves](https://www.google.com/search?q=Recent+breakthroughs+in+physics+news) at the Google search results. It gives us the front page of lots of news aggregators, but not the news articles themselves. And since we used Exa's `search_and_contents`, our search came with the webpage contents, so can use Exa to skip writing a web crawler and access the knowledge directly!"
      ],
      "metadata": {
        "id": "riH35go81MPe"
      }
    },
    {
      "cell_type": "code",
      "source": [
        "results = search_response.results\n",
        "result_item = results[0]\n",
        "print(f\"{len(results)} items total, printing the first one:\")\n",
        "print(result_item.text)"
      ],
      "metadata": {
        "id": "ttZm-kTkBTv9",
        "colab": {
          "base_uri": "https://localhost:8080/"
        },
        "outputId": "eb6a7823-a36e-471a-e8a5-3fedbb572bef"
      },
      "execution_count": null,
      "outputs": [
        {
          "output_type": "stream",
          "name": "stdout",
          "text": [
            "10 items total, printing the first one:\n",
            "Experimental protocol and mean-field phase diagram. Credit: Nature Physics (2024). DOI: 10.1038/s41567-024-02542-9\n",
            "\n",
            "A crystal is an arrangement of atoms that repeats itself in space, in regular intervals: At every point, the crystal looks exactly the same. In 2012, Nobel Prize winner Frank Wilczek raised the question: Could there also be a time crystal—an object that repeats itself not in space but in time? And could it be possible that a periodic rhythm emerges, even though no specific rhythm is imposed on the system and the interaction between the particles is completely independent of time?\n",
            "For years, Frank Wilczek's idea has caused much controversy. Some considered time crystals to be impossible in principle, while others tried to find loopholes and realize time crystals under certain special conditions.\n",
            "Now, a particularly spectacular kind of time crystal has successfully been created at Tsinghua University in China, with the support from TU Wien in Austria.\n",
            "The team used laser light and special types of atoms, namely Rydberg atoms, with a diameter that is several hundred times larger than normal. The results have been published in the journal Nature Physics.\n",
            "Spontaneous symmetry breaking\n",
            "The ticking of a clock is also an example of a temporally periodic movement. However, it does not happen by itself: Someone must have wound the clock and started it at a certain time. This starting time then determined the timing of the ticks. It is different with a time crystal:\n",
            "According to Wilczek's idea, a periodicity should arise spontaneously, although there is actually no physical difference between different points in time.\n",
            "\"The tick frequency is predetermined by the physical properties of the system, but the times at which the tick occurs are completely random; this is known as spontaneous symmetry breaking,\" explains Prof Thomas Pohl from the Institute of Theoretical Physics at TU Wien.\n",
            "Pohl was in charge of the theoretical part of the research work that has now led to the discovery of a time crystal at Tsinghua University in China: Laser light was shone into a glass container filled with a gas of rubidium atoms. The strength of the light signal that arrived at the other end of the container was measured.\n",
            "\"This is actually a static experiment in which no specific rhythm is imposed on the system,\" says Pohl. \"The interactions between light and atoms are always the same, the laser beam has a constant intensity. But surprisingly, it turned out that the intensity that arrives at the other end of the glass cell begins to oscillate in highly regular patterns.\"\n",
            "Giant atoms\n",
            "The key to the experiment was to prepare the atoms in a special way: The electrons of an atom can orbit the nucleus on different paths, depending on how much energy they have. If energy is added to the outermost electron of an atom, its distance from the atomic nucleus can become very large.\n",
            "In extreme cases, it can be several hundred times further away from the nucleus than usual. In this way, atoms with a giant electron shell are created—so-called Rydberg atoms.\n",
            "\"If the atoms in our glass container are prepared in such Rydberg states and their diameter becomes huge, then the forces between these atoms also become very large,\" explains Pohl.\n",
            "\"And that in turn changes the way they interact with the laser. If you choose laser light in such a way that it can excite two different Rydberg states in each atom at the same time, then a feedback loop is generated that causes spontaneous oscillations between the two atomic states. This in turn also leads to oscillating light absorption.\"\n",
            "All by themselves, the giant atoms stumble into a regular beat, and this beat is translated into the rhythm of the light intensity that arrives at the end of the glass container.\n",
            "\"We have created a new system here that provides a powerful platform for deepening our understanding of the time crystal phenomenon in a way that comes very close to Frank Wilczek's original idea,\" says Pohl.\n",
            "\"Precise, self-sustained oscillations could be used for sensors, for example. Giant atoms with Rydberg states have already been successfully used for such techniques in other contexts.\"\n",
            "\n",
            "More information:\n",
            " Xiaoling Wu et al, Dissipative time crystal in a strongly interacting Rydberg gas, Nature Physics (2024). DOI: 10.1038/s41567-024-02542-9. On arXiv: arxiv.org/html/2305.20070v3\n",
            "\n",
            "Citation:\n",
            " Scientists successfully create a time crystal made of giant atoms (2024, July 9)\n",
            " retrieved 10 July 2024\n",
            " from https://phys.org/news/2024-07-scientists-successfully-crystal-giant-atoms.html\n",
            "\n",
            "This document is subject to copyright. Apart from any fair dealing for the purpose of private study or research, no\n",
            " part may be reproduced without the written permission. The content is provided for information purposes only.\n"
          ]
        }
      ]
    },
    {
      "cell_type": "markdown",
      "source": [
        "Awesome! That's really interesting, or it would be if we had bothered to read it all. But there's no way we're doing that, so let's ask the LLM to summarize it for us:"
      ],
      "metadata": {
        "id": "xg_xlYBwBnon"
      }
    },
    {
      "cell_type": "code",
      "source": [
        "import textwrap\n",
        "\n",
        "SYSTEM_MESSAGE = \"You are a helpful assistant that briefly summarizes the content of a webpage. Summarize the users input.\"\n",
        "\n",
        "completion = openai.chat.completions.create(\n",
        "    model=\"gpt-3.5-turbo\",\n",
        "    messages=[\n",
        "        {\"role\": \"system\", \"content\": SYSTEM_MESSAGE},\n",
        "        {\"role\": \"user\", \"content\": result_item.text},\n",
        "    ],\n",
        ")\n",
        "\n",
        "summary = completion.choices[0].message.content\n",
        "\n",
        "print(f\"Summary for {urls[0]}:\")\n",
        "print(result_item.title)\n",
        "print(textwrap.fill(summary, 80))"
      ],
      "metadata": {
        "id": "bEVgALqS1Qbb",
        "colab": {
          "base_uri": "https://localhost:8080/"
        },
        "outputId": "87224d0f-38d0-4370-fbdd-a3dd461b34eb"
      },
      "execution_count": null,
      "outputs": [
        {
          "output_type": "stream",
          "name": "stdout",
          "text": [
            "Summary for https://phys.org/news/2024-07-scientists-successfully-crystal-giant-atoms.html:\n",
            "Scientists successfully create a time crystal made of giant atoms\n",
            "The webpage discusses the creation of a time crystal made of giant atoms by a\n",
            "team at Tsinghua University in China, with support from TU Wien in Austria. The\n",
            "experiment involved using laser light and Rydberg atoms in a gas of rubidium\n",
            "atoms to generate spontaneous oscillations between atomic states, resulting in\n",
            "regular light intensity patterns. This breakthrough offers a deeper\n",
            "understanding of time crystals and potential applications in sensor\n",
            "technologies.\n"
          ]
        }
      ]
    },
    {
      "cell_type": "markdown",
      "source": [
        "And we're done! We built an app that translates a question into a search query, uses Exa to search for useful links, uses Exa to grab clean content from those links, and summarizes the content to effortlessly answer your question about the latest news, or whatever we want.\n",
        "\n",
        "We can be sure that the information is fresh, we have the source in front of us, and we did all this with an Exa query and LLM call. No web scraping or crawling needed!\n",
        "\n",
        "**Through Exa, we have given our LLM access to the entire Internet.** The possibilities are endless."
      ],
      "metadata": {
        "id": "_VZZTHgX1TNS"
      }
    }
  ]
}
